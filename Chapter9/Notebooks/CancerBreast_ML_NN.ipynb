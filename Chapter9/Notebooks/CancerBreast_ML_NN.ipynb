{
 "cells": [
  {
   "cell_type": "markdown",
   "id": "05bcc98c",
   "metadata": {},
   "source": [
    "# Importing Libraries"
   ]
  },
  {
   "cell_type": "code",
   "execution_count": 1,
   "id": "c518b0c5",
   "metadata": {},
   "outputs": [],
   "source": [
    "import pandas as pd\n",
    "import numpy as np\n",
    "import matplotlib.pyplot as plt\n",
    "import seaborn as sns\n",
    "from sklearn.model_selection import train_test_split\n",
    "import tensorflow\n",
    "from keras.models import Sequential\n",
    "from keras.layers import Dense\n",
    "from sklearn import preprocessing\n",
    "from sklearn.preprocessing import OneHotEncoder\n",
    "from sklearn.preprocessing import LabelEncoder\n",
    "from sklearn.compose import ColumnTransformer"
   ]
  },
  {
   "cell_type": "code",
   "execution_count": 2,
   "id": "bdff27e3",
   "metadata": {},
   "outputs": [],
   "source": [
    "colnames = ['ID', 'Diag', 'radius', 'texture','perimeter', 'area', 'smoothness', 'compactness', 'concavity', \n",
    "                   'concave_points', 'symmetry', 'fractal_dim', 'se_radius', 'se_texture','se_perim', 'se_area', 'se_smooth', \n",
    "                   'se_compact', 'se_concavity', 'se_concpts', 'se_symm', 'se_fractdim', 'max_rad', 'max_text', 'max_perim', \n",
    "                   'max_area', 'max_smooth', 'max_compact', 'max_concavity', 'max_concpts', 'max_symm', 'max_fracdim']"
   ]
  },
  {
   "cell_type": "code",
   "execution_count": 3,
   "id": "02766892",
   "metadata": {},
   "outputs": [
    {
     "name": "stdout",
     "output_type": "stream",
     "text": [
      "                 ID      radius     texture   perimeter         area  \\\n",
      "count  5.690000e+02  569.000000  569.000000  569.000000   569.000000   \n",
      "mean   3.037183e+07   14.127292   19.289649   91.969033   654.889104   \n",
      "std    1.250206e+08    3.524049    4.301036   24.298981   351.914129   \n",
      "min    8.670000e+03    6.981000    9.710000   43.790000   143.500000   \n",
      "25%    8.692180e+05   11.700000   16.170000   75.170000   420.300000   \n",
      "50%    9.060240e+05   13.370000   18.840000   86.240000   551.100000   \n",
      "75%    8.813129e+06   15.780000   21.800000  104.100000   782.700000   \n",
      "max    9.113205e+08   28.110000   39.280000  188.500000  2501.000000   \n",
      "\n",
      "       smoothness  compactness   concavity  concave_points    symmetry  ...  \\\n",
      "count  569.000000   569.000000  569.000000      569.000000  569.000000  ...   \n",
      "mean     0.096360     0.104341    0.088799        0.048919    0.181162  ...   \n",
      "std      0.014064     0.052813    0.079720        0.038803    0.027414  ...   \n",
      "min      0.052630     0.019380    0.000000        0.000000    0.106000  ...   \n",
      "25%      0.086370     0.064920    0.029560        0.020310    0.161900  ...   \n",
      "50%      0.095870     0.092630    0.061540        0.033500    0.179200  ...   \n",
      "75%      0.105300     0.130400    0.130700        0.074000    0.195700  ...   \n",
      "max      0.163400     0.345400    0.426800        0.201200    0.304000  ...   \n",
      "\n",
      "          max_rad    max_text   max_perim     max_area  max_smooth  \\\n",
      "count  569.000000  569.000000  569.000000   569.000000  569.000000   \n",
      "mean    16.269190   25.677223  107.261213   880.583128    0.132369   \n",
      "std      4.833242    6.146258   33.602542   569.356993    0.022832   \n",
      "min      7.930000   12.020000   50.410000   185.200000    0.071170   \n",
      "25%     13.010000   21.080000   84.110000   515.300000    0.116600   \n",
      "50%     14.970000   25.410000   97.660000   686.500000    0.131300   \n",
      "75%     18.790000   29.720000  125.400000  1084.000000    0.146000   \n",
      "max     36.040000   49.540000  251.200000  4254.000000    0.222600   \n",
      "\n",
      "       max_compact  max_concavity  max_concpts    max_symm  max_fracdim  \n",
      "count   569.000000     569.000000   569.000000  569.000000   569.000000  \n",
      "mean      0.254265       0.272188     0.114606    0.290076     0.083946  \n",
      "std       0.157336       0.208624     0.065732    0.061867     0.018061  \n",
      "min       0.027290       0.000000     0.000000    0.156500     0.055040  \n",
      "25%       0.147200       0.114500     0.064930    0.250400     0.071460  \n",
      "50%       0.211900       0.226700     0.099930    0.282200     0.080040  \n",
      "75%       0.339100       0.382900     0.161400    0.317900     0.092080  \n",
      "max       1.058000       1.252000     0.291000    0.663800     0.207500  \n",
      "\n",
      "[8 rows x 31 columns]\n"
     ]
    }
   ],
   "source": [
    "data = pd.read_csv('/Users/edpape/Documents/Python/CancerBreast/Data/wdbc.data', header = None, names = colnames)\n",
    "print(data.describe())\n",
    "data = data.iloc[:, 1:]"
   ]
  },
  {
   "cell_type": "code",
   "execution_count": null,
   "id": "35b7bdf5",
   "metadata": {},
   "outputs": [],
   "source": [
    "sns.pairplot(data.iloc[:, :11])"
   ]
  },
  {
   "cell_type": "code",
   "execution_count": null,
   "id": "2c55dfb5",
   "metadata": {},
   "outputs": [],
   "source": [
    "sns.pairplot(data.iloc[:, 12:21])"
   ]
  },
  {
   "cell_type": "code",
   "execution_count": null,
   "id": "0d646f53",
   "metadata": {},
   "outputs": [],
   "source": [
    "sns.pairplot(data.iloc[:, 22:31])"
   ]
  },
  {
   "cell_type": "code",
   "execution_count": null,
   "id": "3b1eb325",
   "metadata": {},
   "outputs": [],
   "source": [
    "print(data['Diag'].value_counts())\n",
    "print(\"\\n\")\n",
    "print(\"Missing values:\\n\")\n",
    "print(data.isna().sum())"
   ]
  },
  {
   "cell_type": "code",
   "execution_count": 4,
   "id": "76454ed6",
   "metadata": {},
   "outputs": [
    {
     "data": {
      "text/plain": [
       "(569, 32)"
      ]
     },
     "execution_count": 4,
     "metadata": {},
     "output_type": "execute_result"
    }
   ],
   "source": [
    "data = pd.get_dummies(data, columns=['Diag'])\n",
    "data.shape"
   ]
  },
  {
   "cell_type": "code",
   "execution_count": 5,
   "id": "ba461e30",
   "metadata": {},
   "outputs": [],
   "source": [
    "X = data.iloc[:, :30]\n",
    "y = data.iloc[:, 30:]\n",
    "X_train, X_test, y_train, y_test = train_test_split(X, y, test_size=0.2, random_state=2)"
   ]
  },
  {
   "cell_type": "code",
   "execution_count": 6,
   "id": "26b7c9c4",
   "metadata": {},
   "outputs": [
    {
     "name": "stdout",
     "output_type": "stream",
     "text": [
      "Dimension X Train\n",
      "(455, 30)\n",
      "Dimension X Test\n",
      "(114, 30)\n",
      "Dimension Y Train\n",
      "(455, 2)\n",
      "Dimension Y Test\n",
      "(114, 2)\n"
     ]
    }
   ],
   "source": [
    "X_train = np.asmatrix(X_train)\n",
    "X_train = preprocessing.normalize(X_train)\n",
    "print(\"Dimension X Train\")\n",
    "print(X_train.shape)\n",
    "\n",
    "X_test = np.asmatrix(X_test)\n",
    "X_test = preprocessing.normalize(X_test)\n",
    "print(\"Dimension X Test\")\n",
    "print(X_test.shape)\n",
    "\n",
    "y_train = np.asmatrix(y_train)\n",
    "y_test = np.asmatrix(y_test)\n",
    "print(\"Dimension Y Train\")\n",
    "print(y_train.shape)\n",
    "print(\"Dimension Y Test\")\n",
    "print(y_test.shape)"
   ]
  },
  {
   "cell_type": "code",
   "execution_count": 7,
   "id": "ca263c46",
   "metadata": {},
   "outputs": [],
   "source": [
    "y_train = np.asarray(y_train).astype('float32')\n",
    "y_test = np.asarray(y_test).astype('float32')"
   ]
  },
  {
   "cell_type": "code",
   "execution_count": 8,
   "id": "93b474ef",
   "metadata": {},
   "outputs": [
    {
     "name": "stdout",
     "output_type": "stream",
     "text": [
      "Dimension Y Train\n",
      "(455, 2)\n",
      "Dimension Y Test\n",
      "(114, 2)\n"
     ]
    }
   ],
   "source": [
    "print(\"Dimension Y Train\")\n",
    "print(y_train.shape)\n",
    "print(\"Dimension Y Test\")\n",
    "print(y_test.shape)"
   ]
  },
  {
   "cell_type": "code",
   "execution_count": 9,
   "id": "479af1af",
   "metadata": {},
   "outputs": [],
   "source": [
    "# define the keras model\n",
    "model = Sequential()\n",
    "model.add(Dense(32, input_dim=30, activation='relu'))\n",
    "model.add(Dense(16, activation='relu'))\n",
    "model.add(Dense(2, activation='sigmoid'))\n",
    "\n",
    "# compile the keras model\n",
    "model.compile(loss='binary_crossentropy', optimizer='adam', metrics=['accuracy'])"
   ]
  },
  {
   "cell_type": "code",
   "execution_count": 11,
   "id": "7b06ab52",
   "metadata": {},
   "outputs": [
    {
     "data": {
      "text/plain": [
       "<tensorflow.python.keras.callbacks.History at 0x173fb3640>"
      ]
     },
     "execution_count": 11,
     "metadata": {},
     "output_type": "execute_result"
    }
   ],
   "source": [
    "# fit the keras model on the dataset\n",
    "model.fit(X_train, y_train, epochs=500, batch_size=10, verbose=0)\n"
   ]
  },
  {
   "cell_type": "code",
   "execution_count": 12,
   "id": "ea2775f0",
   "metadata": {},
   "outputs": [
    {
     "name": "stdout",
     "output_type": "stream",
     "text": [
      "15/15 [==============================] - 0s 382us/step - loss: 0.1060 - accuracy: 0.9560\n",
      "Accuracy: 95.60\n"
     ]
    }
   ],
   "source": [
    "# evaluate the keras model\n",
    "_, accuracy = model.evaluate(X_train, y_train)\n",
    "print('Accuracy: %.2f' % (accuracy*100))"
   ]
  }
 ],
 "metadata": {
  "kernelspec": {
   "display_name": "Python 3",
   "language": "python",
   "name": "python3"
  },
  "language_info": {
   "codemirror_mode": {
    "name": "ipython",
    "version": 3
   },
   "file_extension": ".py",
   "mimetype": "text/x-python",
   "name": "python",
   "nbconvert_exporter": "python",
   "pygments_lexer": "ipython3",
   "version": "3.8.10"
  }
 },
 "nbformat": 4,
 "nbformat_minor": 5
}
